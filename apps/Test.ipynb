{
 "cells": [
  {
   "cell_type": "code",
   "execution_count": 15,
   "metadata": {},
   "outputs": [],
   "source": [
    "# Import Splinter and BeautifulSoup\n",
    "from splinter import Browser\n",
    "from bs4 import BeautifulSoup\n",
    "import pandas as pd"
   ]
  },
  {
   "cell_type": "code",
   "execution_count": 16,
   "metadata": {},
   "outputs": [],
   "source": [
    "# Windows users\n",
    "executable_path = {'executable_path': 'chromedriver.exe'}\n",
    "browser = Browser('chrome', **executable_path, headless=False)"
   ]
  },
  {
   "cell_type": "code",
   "execution_count": 17,
   "metadata": {},
   "outputs": [],
   "source": [
    "# Visit the mars nasa news site\n",
    "#url = 'https://astrogeology.usgs.gov/search/results?q=hemisphere+enhanced&k1=target&v1=Mars'\n",
    "url = 'file:\\\\C:\\\\Users\\\\Anshu Rathore\\\\Downloads\\\\Astropedia Search Results _ USGS Astrogeology Science Center.html'\n",
    "browser.visit(url)\n",
    "# Optional delay for loading the page\n",
    "#browser.is_text_present('Products', wait_time=10)"
   ]
  },
  {
   "cell_type": "code",
   "execution_count": 20,
   "metadata": {},
   "outputs": [
    {
     "name": "stdout",
     "output_type": "stream",
     "text": [
      "Cerberus Hemisphere Enhanced\n",
      "Schiaparelli Hemisphere Enhanced\n",
      "Syrtis Major Hemisphere Enhanced\n",
      "Valles Marineris Hemisphere Enhanced\n"
     ]
    }
   ],
   "source": [
    "html = browser.html\n",
    "hemisphere_soup = BeautifulSoup(html, 'html.parser')\n",
    "#hemisphere_name = brower.find_by_tag(\"h3\")[0].text()\n",
    "#hemisphere_name = hemisphere_soup.find('h3').text\n",
    "#hemisphere_name\n",
    "\n",
    "# Scrape the hemispher name\n",
    "hemisphere_box = hemisphere_soup.find('div', class_='collapsible results')\n",
    "\n",
    "hemisphere_names = hemisphere_box.find_all('h3')\n",
    "\n",
    "hemisphere_list = []\n",
    "\n",
    "for names in hemisphere_names:\n",
    "    name = names.text\n",
    "    print(name)\n",
    "    more_info_elem = browser.find_link_by_partial_text(names.text)\n",
    "    more_info_elem.click()\n",
    "    # Parse the resulting html with soup\n",
    "    html = browser.html\n",
    "    img_soup = BeautifulSoup(html, 'html.parser')\n",
    "    browser.is_text_present('Mimetype', wait_time=10)\n",
    "    # Find the relative image url\n",
    "    img_url_rel = img_soup.select_one('img.wide-image').get(\"src\")\n",
    "    # Use the base URL to create an absolute URL\n",
    "    full_img_url = f'https://astrogeology.usgs.gov{img_url_rel}'\n",
    "    data = {\n",
    "        \"title\": name,\n",
    "        \"img_url\": full-img_url\n",
    "    }\n",
    "    hemisphere_list.append(data)\n",
    "    browser.back()\n",
    "\n",
    "hemisphere_list"
   ]
  },
  {
   "cell_type": "code",
   "execution_count": 22,
   "metadata": {},
   "outputs": [],
   "source": [
    "more_info_elem = browser.find_link_by_partial_text(hemisphere_names[0].text)\n",
    "more_info_elem.click()"
   ]
  },
  {
   "cell_type": "code",
   "execution_count": 23,
   "metadata": {},
   "outputs": [],
   "source": [
    "browser.back()"
   ]
  },
  {
   "cell_type": "code",
   "execution_count": 24,
   "metadata": {},
   "outputs": [],
   "source": [
    "url = 'file:\\\\C:\\\\Users\\\\Anshu Rathore\\\\Downloads\\\\Cerberus Hemisphere Enhanced _ USGS Astrogeology Science Center.html'\n",
    "browser.visit(url)"
   ]
  },
  {
   "cell_type": "code",
   "execution_count": 25,
   "metadata": {},
   "outputs": [
    {
     "data": {
      "text/plain": [
       "True"
      ]
     },
     "execution_count": 25,
     "metadata": {},
     "output_type": "execute_result"
    }
   ],
   "source": [
    "# Parse the resulting html with soup\n",
    "html = browser.html\n",
    "img_soup = BeautifulSoup(html, 'html.parser')\n",
    "browser.is_text_present('Mimetype', wait_time=10)"
   ]
  },
  {
   "cell_type": "code",
   "execution_count": 26,
   "metadata": {},
   "outputs": [
    {
     "data": {
      "text/plain": [
       "'./Cerberus Hemisphere Enhanced _ USGS Astrogeology Science Center_files/cfa62af2557222a02478f1fcd781d445_cerberus_enhanced.tif_full.jpg'"
      ]
     },
     "execution_count": 26,
     "metadata": {},
     "output_type": "execute_result"
    }
   ],
   "source": [
    "# Find the relative image url\n",
    "img_url_rel = img_soup.select_one('img.wide-image').get(\"src\")\n",
    "img_url_rel"
   ]
  },
  {
   "cell_type": "code",
   "execution_count": 27,
   "metadata": {},
   "outputs": [
    {
     "data": {
      "text/plain": [
       "'https://astrogeology.usgs.gov./Cerberus Hemisphere Enhanced _ USGS Astrogeology Science Center_files/cfa62af2557222a02478f1fcd781d445_cerberus_enhanced.tif_full.jpg'"
      ]
     },
     "execution_count": 27,
     "metadata": {},
     "output_type": "execute_result"
    }
   ],
   "source": [
    "# Use the base URL to create an absolute URL\n",
    "full_img_url = f'https://astrogeology.usgs.gov{img_url_rel}'\n",
    "full_img_url"
   ]
  },
  {
   "cell_type": "code",
   "execution_count": null,
   "metadata": {},
   "outputs": [],
   "source": [
    " data = {\n",
    "        \"title\": hemisphere_name,\n",
    "        \"img_url\": full-img_url\n",
    "    }"
   ]
  }
 ],
 "metadata": {
  "kernelspec": {
   "display_name": "PythonData",
   "language": "python",
   "name": "pythondata"
  },
  "language_info": {
   "codemirror_mode": {
    "name": "ipython",
    "version": 3
   },
   "file_extension": ".py",
   "mimetype": "text/x-python",
   "name": "python",
   "nbconvert_exporter": "python",
   "pygments_lexer": "ipython3",
   "version": "3.7.6"
  }
 },
 "nbformat": 4,
 "nbformat_minor": 4
}
